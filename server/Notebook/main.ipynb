{
 "cells": [
  {
   "cell_type": "code",
   "execution_count": 1,
   "metadata": {},
   "outputs": [
    {
     "name": "stdout",
     "output_type": "stream",
     "text": [
      "he\n"
     ]
    }
   ],
   "source": [
    "# ! pip install cohere pinecone-client"
   ]
  },
  {
   "cell_type": "code",
   "execution_count": null,
   "metadata": {},
   "outputs": [],
   "source": [
    "cohere_api_key = ''\n",
    "pinecone_api_key = ''"
   ]
  },
  {
   "cell_type": "code",
   "execution_count": null,
   "metadata": {},
   "outputs": [],
   "source": [
    "import cohere\n",
    "co = cohere.Client(cohere_api_key)"
   ]
  },
  {
   "cell_type": "code",
   "execution_count": null,
   "metadata": {},
   "outputs": [],
   "source": [
    "from pinecone import Pinecone\n",
    "\n",
    "pc = Pinecone(pinecone_api_key) # add your pinecone API key here\n",
    "\n",
    "index_name = 'quranic'\n",
    "\n",
    "# if the index does not exist, we create it\n",
    "if index_name not in pc.list_indexes().names():\n",
    "    pc.create_index(\n",
    "        index_name,\n",
    "        dimension=shape[1],\n",
    "        metric='cosine'\n",
    "    )\n",
    "\n",
    "# connect to index\n",
    "index = pc.Index(index_name)"
   ]
  },
  {
   "cell_type": "code",
   "execution_count": null,
   "metadata": {},
   "outputs": [],
   "source": [
    "limit = 1600\n",
    "\n",
    "def retrieve(query):\n",
    "    xq = co.embed(\n",
    "        texts=[query],\n",
    "        model='multilingual-22-12',\n",
    "        truncate='NONE'\n",
    "    ).embeddings\n",
    "    # search pinecone index for context passage with the answer\n",
    "    xc = index.query(vector=xq, top_k=3, include_metadata=True)\n",
    "\n",
    "    # Extract relevant information from the matches\n",
    "    surahs = [str(x['metadata']['Surah']) for x in xc['matches']]\n",
    "    ayahs = [str(x['metadata']['Ayat']) for x in xc['matches']]\n",
    "    arabics = [str(x['metadata']['Arabic']) for x in xc['matches']]\n",
    "    tafaseers = [str(x['metadata']['Tafaseer1']) for x in xc['matches']]\n",
    "\n",
    "    # Combine the information into formatted contexts\n",
    "    contexts = [\n",
    "        f\"Surah: {surah}\\n Ayah: {ayah}\\n Arabic: {arabic}\\n\"\n",
    "        for surah, ayah, arabic in zip(surahs, ayahs, arabics)\n",
    "    ]\n",
    "\n",
    "    # Build the prompt with the retrieved contexts included\n",
    "    prompt_start = (\n",
    "        f\"Answer the Query based on the contexts, if it's not in the contexts say 'I don't know the answer'. \\n\\n\"\n",
    "        f\"Context:\\n\"\n",
    "    )\n",
    "    prompt_end = (\n",
    "        f\"\\n\\nQuery: {query}\\nAnswer in the language of Query, if Query is in English Answer in English. Please provide reference Quran verses.\"\n",
    "    )\n",
    "\n",
    "    # Append contexts until hitting the limit\n",
    "    for i in range(1, len(contexts)):\n",
    "        if len(\"\".join(contexts[:i])) >= limit:\n",
    "            prompt = (\n",
    "                prompt_start +\n",
    "                \"\".join(contexts[:i-1]) +\n",
    "                prompt_end\n",
    "            )\n",
    "            break\n",
    "        elif i == len(contexts)-1:\n",
    "            prompt = (\n",
    "                prompt_start +\n",
    "                \"\".join(contexts) +\n",
    "                prompt_end\n",
    "            )\n",
    "    return prompt\n",
    "\n",
    "# Example usage with a query in a different language (Spanish)\n",
    "query_new = \"¿Cuál es el significado de la vida?\"\n",
    "prompt_new = retrieve(query_new)\n",
    "print(prompt_new)"
   ]
  },
  {
   "cell_type": "code",
   "execution_count": null,
   "metadata": {},
   "outputs": [],
   "source": [
    "def complete(prompt):\n",
    "  response = co.generate(\n",
    "                          model='c4ai-aya',\n",
    "                          prompt=prompt,\n",
    "                          max_tokens=600,\n",
    "                          temperature=0.2,\n",
    "                          k=0,\n",
    "                          stop_sequences=['\\n\\n'],\n",
    "                          return_likelihoods='NONE'\n",
    "                        )\n",
    "  return response.generations[0].text.strip()"
   ]
  },
  {
   "cell_type": "code",
   "execution_count": null,
   "metadata": {},
   "outputs": [],
   "source": [
    "complete(prompt_new)"
   ]
  }
 ],
 "metadata": {
  "kernelspec": {
   "display_name": "env",
   "language": "python",
   "name": "python3"
  },
  "language_info": {
   "codemirror_mode": {
    "name": "ipython",
    "version": 3
   },
   "file_extension": ".py",
   "mimetype": "text/x-python",
   "name": "python",
   "nbconvert_exporter": "python",
   "pygments_lexer": "ipython3",
   "version": "3.11.3"
  }
 },
 "nbformat": 4,
 "nbformat_minor": 2
}
